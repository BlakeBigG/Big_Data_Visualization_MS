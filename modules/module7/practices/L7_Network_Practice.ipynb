{
 "cells": [
  {
   "cell_type": "markdown",
   "metadata": {},
   "source": [
    "## Module 7 - Network Practice\n",
    "\n",
    "In this notebook, we will see how to create network and tree visualizations using `igraph` and `networkD3`. \n",
    "\n",
    "\n",
    "You may have to **rerun** cells to get the network output for networkD3 examples. \n",
    "\n",
    "\n",
    "Here are some references for the libraries we will use:\n",
    "\n",
    "- [igraph manual pages](http://igraph.org/r/doc/)\n",
    "\n",
    "- [igraph reference](https://cran.r-project.org/web/packages/igraph/igraph.pdf)\n",
    "\n",
    "- [networkD3 reference](https://cran.r-project.org/web/packages/networkD3/networkD3.pdf)\n",
    "\n",
    "- [network data sources](http://www-personal.umich.edu/~mejn/netdata/)\n"
   ]
  },
  {
   "cell_type": "markdown",
   "metadata": {},
   "source": [
    "## `igraph` Library\n",
    "\n",
    "\n",
    "There are several different ways of defining graphs. Let's start with a simple network. Here, we will create the network **from scratch by giving the list of edges**. \n",
    "\n",
    "\n",
    "Edges are represented by vertex pairs. Two vertices (nodes) are connected by an edge (link) in the following example:"
   ]
  },
  {
   "cell_type": "code",
   "execution_count": null,
   "metadata": {},
   "outputs": [],
   "source": [
    "library(igraph)\n",
    "\n",
    "# we can create a graph by giving a list of edges that are represented as vertex pairs. \n",
    "edges <- c(1,2, 3,2, 2,4)\n",
    "\n",
    "# now CONVERT it to a directed graph\n",
    "g<-graph(edges, n=max(edges), directed=TRUE)\n",
    "\n",
    "# there are 3 pairs, so there will be three edges \n",
    "plot(g)"
   ]
  },
  {
   "cell_type": "markdown",
   "metadata": {},
   "source": [
    "Note that `g` is a graph, not a data frame. "
   ]
  },
  {
   "cell_type": "code",
   "execution_count": null,
   "metadata": {},
   "outputs": [],
   "source": [
    "g"
   ]
  },
  {
   "cell_type": "markdown",
   "metadata": {},
   "source": [
    "We can find out some properties and compute some basic **statistics** about a graph like in the following examples: "
   ]
  },
  {
   "cell_type": "code",
   "execution_count": null,
   "metadata": {},
   "outputs": [],
   "source": [
    "# vertex count\n",
    "vcount(g)"
   ]
  },
  {
   "cell_type": "code",
   "execution_count": null,
   "metadata": {},
   "outputs": [],
   "source": [
    "# edge count\n",
    "ecount(g)"
   ]
  },
  {
   "cell_type": "code",
   "execution_count": null,
   "metadata": {},
   "outputs": [],
   "source": [
    "# neighbors of the first vertex \n",
    "neighbors(g, V(g)[1], mode = 1)"
   ]
  },
  {
   "cell_type": "code",
   "execution_count": null,
   "metadata": {},
   "outputs": [],
   "source": [
    "# statistics about neighbors\n",
    "incident(g,V(g)[2], mode=c(\"all\", \"out\", \"in\", \"total\"))"
   ]
  },
  {
   "cell_type": "code",
   "execution_count": null,
   "metadata": {},
   "outputs": [],
   "source": [
    "# are these vertices connected ? \n",
    "are.connected(g, V(g)[1], V(g)[3])"
   ]
  },
  {
   "cell_type": "code",
   "execution_count": null,
   "metadata": {},
   "outputs": [],
   "source": [
    "# get a list of graph edges \n",
    "get.edgelist(g)"
   ]
  },
  {
   "cell_type": "code",
   "execution_count": null,
   "metadata": {},
   "outputs": [],
   "source": [
    "# List of vertices \n",
    "V(g)"
   ]
  },
  {
   "cell_type": "markdown",
   "metadata": {},
   "source": [
    "### YOUR TURN: \n",
    "\n",
    "**Create the first graph** from the lab notebook with five edges using the `igraph` functions. "
   ]
  },
  {
   "cell_type": "code",
   "execution_count": null,
   "metadata": {},
   "outputs": [],
   "source": [
    "< YOUR CODE HERE >"
   ]
  },
  {
   "cell_type": "markdown",
   "metadata": {},
   "source": [
    "**Can you also create the second graph with the directed edges?** "
   ]
  },
  {
   "cell_type": "markdown",
   "metadata": {},
   "source": [
    "\n",
    "--- \n",
    "\n",
    "## Reading Graphs from File\n",
    "\n",
    "We can also read an **edge list from a plain text file** and convert it to a graph. \n",
    "\n",
    "In this example, the vertices (nodes) are labeled by letters, and each row represents an edge between two vertices. "
   ]
  },
  {
   "cell_type": "code",
   "execution_count": null,
   "metadata": {},
   "outputs": [],
   "source": [
    "# This is the file content:\n",
    "# A,B\n",
    "# A,G\n",
    "# A,Y\n",
    "# G,Y\n",
    "\n",
    "t <-read.csv(\"/dsa/data/all_datasets/networks/graph1.txt\", header=FALSE)\n",
    "\n",
    "# t is a data frame\n",
    "head(t)"
   ]
  },
  {
   "cell_type": "code",
   "execution_count": null,
   "metadata": {},
   "outputs": [],
   "source": [
    "# g2 is a graph\n",
    "g2 <- graph.data.frame(t)\n",
    "plot(g2)"
   ]
  },
  {
   "cell_type": "markdown",
   "metadata": {},
   "source": [
    "### YOUR TURN: \n",
    "\n",
    "**Compute the same statistics** for `g2` as before done for `g`. "
   ]
  },
  {
   "cell_type": "code",
   "execution_count": null,
   "metadata": {},
   "outputs": [],
   "source": [
    "< YOUR CODE HERE >"
   ]
  },
  {
   "cell_type": "markdown",
   "metadata": {},
   "source": [
    "\n",
    "---\n",
    "\n",
    "\n",
    "We can also read an **adjacency matrix** from a text file as opposed to a list of vertex pairs. \n",
    "\n",
    "\n",
    "Remember what an adjacency matrix is from the lab material. This is a sample row from the file showing the **connectivity of the first vertex** to the other vertices:\n",
    "\n",
    "```\n",
    " 0 1 1 1 0 0 0 0 1 0 0 1 0\n",
    "```"
   ]
  },
  {
   "cell_type": "code",
   "execution_count": null,
   "metadata": {},
   "outputs": [],
   "source": [
    "adj_matrix <- as.matrix(read.table(\"/dsa/data/all_datasets/networks/SAcountries.txt\",header=FALSE, sep=\" \"))\n",
    "adj_matrix"
   ]
  },
  {
   "cell_type": "markdown",
   "metadata": {},
   "source": [
    "We also need **names/labels for vertices (nodes). The above matrix data actually represents **neighborhood relationships between the countries in South America**. \n",
    "\n",
    "Let's read the country names from a different file:"
   ]
  },
  {
   "cell_type": "code",
   "execution_count": null,
   "metadata": {},
   "outputs": [],
   "source": [
    "SAnames <- read.csv(\"/dsa/data/all_datasets/networks/SAcountrylist.txt\", header=FALSE)\n",
    "head(SAnames)"
   ]
  },
  {
   "cell_type": "markdown",
   "metadata": {},
   "source": [
    "Let's build an **undirected** simple (nonweighted) graph from the above matrix. **Study the following code:**"
   ]
  },
  {
   "cell_type": "code",
   "execution_count": null,
   "metadata": {},
   "outputs": [],
   "source": [
    "gSA <-  graph_from_adjacency_matrix(adj_matrix, weighted = NULL,  mode = \"undirected\")\n",
    "\n",
    "# remove loops\n",
    "gSA <- simplify(gSA)\n",
    "# set labels and degrees of vertices\n",
    "gSA <- set_vertex_attr(gSA, \"label\", value= as.vector(SAnames$V1))\n",
    "\n",
    "gSA"
   ]
  },
  {
   "cell_type": "markdown",
   "metadata": {},
   "source": [
    "**You can create new attributes for each vertex in the graph like this:** "
   ]
  },
  {
   "cell_type": "code",
   "execution_count": null,
   "metadata": {},
   "outputs": [],
   "source": [
    "# create an attribute to hold degree for each vertex\n",
    "V(gSA)$degree <- degree(gSA)"
   ]
  },
  {
   "cell_type": "code",
   "execution_count": null,
   "metadata": {},
   "outputs": [],
   "source": [
    "# do a force-directed layout \n",
    "layout1 <- layout.fruchterman.reingold(gSA)\n",
    "\n",
    "# draw the newtwork \n",
    "plot(gSA, layout=layout1)"
   ]
  },
  {
   "cell_type": "code",
   "execution_count": null,
   "metadata": {},
   "outputs": [],
   "source": [
    "# another layout \n",
    "plot(gSA, layout=layout.kamada.kawai)\n"
   ]
  },
  {
   "cell_type": "code",
   "execution_count": null,
   "metadata": {},
   "outputs": [],
   "source": [
    "# this is an example of a more complicated graph, it'll take a while to draw:\n",
    "gb <- barabasi.game(1000, power=1)\n",
    "l1 <- layout.fruchterman.reingold(gb)\n",
    "l2 <- layout.kamada.kawai\n",
    "plot(gb, layout=l1, vertex.size=2, vertex.label=NA, edge.arrow.size=.2)\n",
    "plot(gb, layout=l2, vertex.size=2, vertex.label=NA, edge.arrow.size=.2)"
   ]
  },
  {
   "cell_type": "markdown",
   "metadata": {},
   "source": [
    "## networkD3 Library \n",
    "\n",
    "`networkD3` library is an R interface to the **D3 Javascript library**. \n",
    "\n",
    "\n",
    "Let's do similar layouts in networkD3. **This library produces interactive graphs, you can click on a node and drag it, for example.** \n",
    "\n",
    "It requires two sets of vertices as input to create a graph from them: source vertices, and target vertices. "
   ]
  },
  {
   "cell_type": "code",
   "execution_count": null,
   "metadata": {},
   "outputs": [],
   "source": [
    "library(networkD3)\n",
    "\n",
    "# Create edge data\n",
    "src <- c(\"A\", \"A\", \"A\", \"A\",\n",
    "        \"B\", \"B\", \"C\", \"C\", \"D\")\n",
    "\n",
    "target <- c(\"B\", \"C\", \"D\", \"J\",\n",
    "            \"E\", \"F\", \"G\", \"H\", \"I\")\n",
    "\n",
    "networkData <- data.frame(src, target)\n",
    "\n",
    "# Plot - may need to run twice \n",
    "simpleNetwork(networkData, height=300)"
   ]
  },
  {
   "cell_type": "markdown",
   "metadata": {},
   "source": [
    "**We can also convert the `igraph` graphs to `D3` graphs.**\n"
   ]
  },
  {
   "cell_type": "code",
   "execution_count": null,
   "metadata": {},
   "outputs": [],
   "source": [
    "gSA_d3 <- igraph_to_networkD3(gSA)\n",
    "\n",
    "# Create force directed network plot - you can zoom into this graph with mouse \n",
    "forceNetwork(Links = gSA_d3$links, Nodes = gSA_d3$nodes, Source = 'source', Target = 'target', \n",
    "             NodeID = 'name', Group = 'name', height=500, zoom=TRUE, fontSize=20)"
   ]
  },
  {
   "cell_type": "markdown",
   "metadata": {},
   "source": [
    "### IS THIS GRAPH PLANAR ? MOVE THE VERTICES WITH MOUSE TO GET RID OF ALL EDGE CROSSINGS IF YOU CAN.\n",
    "\n",
    "\n",
    "---\n",
    "\n",
    "\n"
   ]
  },
  {
   "cell_type": "markdown",
   "metadata": {},
   "source": [
    "Let's look at a more complex data set. This dataset contains the **co-occurance network of characters in Victor Hugo's novel *Les Misérables*.** \n",
    "\n",
    "\n",
    "**A vertex represents a character**, and an **edge between two vertices shows that these two characters appeared in the same chapter** of the the book. The **weight** of each edge indicates how often such a co-appearance occured."
   ]
  },
  {
   "cell_type": "code",
   "execution_count": null,
   "metadata": {},
   "outputs": [],
   "source": [
    "# This is the Les Miserables data set that comes with the library \n",
    "data(MisLinks)\n",
    "data(MisNodes)"
   ]
  },
  {
   "cell_type": "markdown",
   "metadata": {},
   "source": [
    "Edges (links) have **weights** that are represented by the `value` column in the data frame as below: "
   ]
  },
  {
   "cell_type": "code",
   "execution_count": null,
   "metadata": {},
   "outputs": [],
   "source": [
    "head(MisLinks) # EDGE DATA - has weights "
   ]
  },
  {
   "cell_type": "markdown",
   "metadata": {},
   "source": [
    "Vertices (nodes) have two attributes: `group` and `size`. "
   ]
  },
  {
   "cell_type": "code",
   "execution_count": null,
   "metadata": {},
   "outputs": [],
   "source": [
    "head(MisNodes) # VERTEX DATA - has size and grouping "
   ]
  },
  {
   "cell_type": "markdown",
   "metadata": {},
   "source": [
    "**Can you identify how many different visual channels represent attributes about the data set below?** "
   ]
  },
  {
   "cell_type": "code",
   "execution_count": null,
   "metadata": {},
   "outputs": [],
   "source": [
    "# Plot - Move mouse over VERTICES to see character names \n",
    "\n",
    "forceNetwork(Links = MisLinks, Nodes = MisNodes,\n",
    "            Source = \"source\", Target = \"target\",\n",
    "            Value = \"value\", NodeID = \"name\",\n",
    "            Group = \"group\", opacity = 0.8, height=600, zoom=TRUE, fontSize=30)"
   ]
  },
  {
   "cell_type": "markdown",
   "metadata": {},
   "source": [
    "**Look at [here](https://www.rdocumentation.org/packages/networkD3/versions/0.4/topics/forceNetwork) for all the options you can use with `forceNetwork()` function.**"
   ]
  },
  {
   "cell_type": "markdown",
   "metadata": {},
   "source": [
    "### Here are some links that show alternative visualizations for the same data set: \n",
    " - https://bost.ocks.org/mike/miserables/\n",
    " - https://studentwork.prattsi.org/infovis/labs/character-networks-visualization-for-les-miserables/\n",
    " - https://studentwork.prattsi.org/infovis/visualization/les-miserables-character-network-visualization/"
   ]
  },
  {
   "cell_type": "markdown",
   "metadata": {},
   "source": [
    "### YOUR TURN: \n",
    "\n",
    "**Create an interactive network** for the South America data from above. You'll need to create two data frames similar to the `Mis` example. "
   ]
  },
  {
   "cell_type": "code",
   "execution_count": null,
   "metadata": {},
   "outputs": [],
   "source": [
    "< YOUR CODE HERE >"
   ]
  },
  {
   "cell_type": "markdown",
   "metadata": {},
   "source": [
    "Now, **find neighbors of Bolivia** using the `neighbors()` function. For that, you'll need an `igraph` graph. "
   ]
  },
  {
   "cell_type": "code",
   "execution_count": null,
   "metadata": {},
   "outputs": [],
   "source": [
    "< YOUR CODE HERE >"
   ]
  },
  {
   "cell_type": "markdown",
   "metadata": {},
   "source": [
    "\n",
    "---\n",
    "\n",
    "\n",
    "**We can also read graphs in GML format.** \n",
    "\n",
    "This example contains an undirected social network of frequent associations between 62 dolphins in a community living off Doubtful Sound, New Zealand, as compiled by Lusseau et al. (2003). "
   ]
  },
  {
   "cell_type": "code",
   "execution_count": null,
   "metadata": {},
   "outputs": [],
   "source": [
    "gml_data <- read.graph(\"/dsa/data/all_datasets/networks/dolphins.gml\", format=c(\"gml\"))\n",
    "head(gml_data)"
   ]
  },
  {
   "cell_type": "code",
   "execution_count": null,
   "metadata": {},
   "outputs": [],
   "source": [
    "gml_data <- simplify(gml_data)\n",
    "\n",
    "dol <- igraph_to_networkD3(gml_data)\n",
    "\n",
    "forceNetwork(Links = dol$links, Nodes = dol$nodes, NodeID = \"name\", Group = \"name\", height=600, zoom=TRUE)"
   ]
  },
  {
   "cell_type": "markdown",
   "metadata": {},
   "source": [
    "**With this data set, we can experiment with community detection functions of `igraph` by clustering vertices like this:** "
   ]
  },
  {
   "cell_type": "code",
   "execution_count": null,
   "metadata": {},
   "outputs": [],
   "source": [
    "cfg <- cluster_fast_greedy(as.undirected(gml_data))\n",
    "plot(cfg, gml_data)"
   ]
  },
  {
   "cell_type": "code",
   "execution_count": null,
   "metadata": {},
   "outputs": [],
   "source": [
    "ceb <- cluster_edge_betweenness(gml_data)\n",
    "plot(ceb, gml_data)"
   ]
  },
  {
   "cell_type": "code",
   "execution_count": null,
   "metadata": {},
   "outputs": [],
   "source": [
    "clp <- cluster_label_prop(gml_data)\n",
    "plot(clp, gml_data)"
   ]
  },
  {
   "cell_type": "markdown",
   "metadata": {},
   "source": [
    "### Radial Networks\n",
    "\n",
    "We can also read network data in JSON format like in the example below: "
   ]
  },
  {
   "cell_type": "code",
   "execution_count": null,
   "metadata": {},
   "outputs": [],
   "source": [
    "# example of a radial network given in Javascript's JSON format.\n",
    "library(jsonlite)\n",
    "URL <- \"https://raw.githubusercontent.com/christophergandrud/networkD3/master/JSONdata/flare.json\"\n",
    "\n",
    "## Convert the data to list format\n",
    "Flare <- fromJSON(URL, simplifyDataFrame = FALSE)"
   ]
  },
  {
   "cell_type": "code",
   "execution_count": null,
   "metadata": {},
   "outputs": [],
   "source": [
    "# JSON format\n",
    "Flare"
   ]
  },
  {
   "cell_type": "code",
   "execution_count": null,
   "metadata": {},
   "outputs": [],
   "source": [
    "# Use subset of data for a more readable diagram\n",
    "Flare$children = Flare$children[1:3]\n",
    "\n",
    "radialNetwork(List = Flare, fontSize = 20, opacity = 1, height=600)"
   ]
  },
  {
   "cell_type": "markdown",
   "metadata": {},
   "source": [
    "We can **visualize clusters** with a radial network like this: "
   ]
  },
  {
   "cell_type": "code",
   "execution_count": null,
   "metadata": {},
   "outputs": [],
   "source": [
    "hc <- hclust(dist(USArrests), \"ave\")\n",
    "radialNetwork(as.radialNetwork(hc))"
   ]
  },
  {
   "cell_type": "code",
   "execution_count": null,
   "metadata": {},
   "outputs": [],
   "source": []
  }
 ],
 "metadata": {
  "kernelspec": {
   "display_name": "R",
   "language": "R",
   "name": "ir"
  },
  "language_info": {
   "codemirror_mode": "r",
   "file_extension": ".r",
   "mimetype": "text/x-r-source",
   "name": "R",
   "pygments_lexer": "r",
   "version": "3.5.1"
  }
 },
 "nbformat": 4,
 "nbformat_minor": 2
}
