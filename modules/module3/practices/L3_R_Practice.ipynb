{
 "cells": [
  {
   "cell_type": "markdown",
   "metadata": {},
   "source": [
    "# Module 3 R Practice "
   ]
  },
  {
   "cell_type": "markdown",
   "metadata": {},
   "source": [
    "The exercises in this notebook are in R using the ggplot2 package. ggplot2 is created by Hadley Wickham based on the **grammar of graphics approach** of Leland Wilkinson. It abstracts the graphics into separate components regarding the data, aesthetics, geometric objects, transformations, etc. and makes it possible to create different layers of visualization on the same graphics. ggplot2 is more verbose to create simple graphics, but it is less verbose and provides an object-oriented feel for more complex graphics. \n",
    "\n",
    "The dataset used in this notebook is the tipping information recorded in a restaurant and has the following attributes:\n",
    "\n",
    "* total_bill in dollars\n",
    "* tip in dollars\n",
    "* sex of the payer \n",
    "* whether there were smokers in the party\n",
    "* day of the week\n",
    "* time of day\n",
    "* size of the party"
   ]
  },
  {
   "cell_type": "markdown",
   "metadata": {},
   "source": [
    "### References for plotting in R\n",
    "\n",
    "\n",
    "* **Reference** [ggplot documentation](https://ggplot2.tidyverse.org/reference/)\n",
    "* **Reference** [R ggplot package](https://cran.r-project.org/web/packages/ggplot2/ggplot2.pdf)\n",
    "* **Reference** [R ggplot cheatsheet](https://www.rstudio.com/wp-content/uploads/2015/03/ggplot2-cheatsheet.pdf)\n",
    "* **Reference** [ggplot examples](http://tutorials.iq.harvard.edu/R/Rgraphics/Rgraphics.html)\n",
    "* **Reference** [R color cheatsheet](http://www.guianaplants.stir.ac.uk/seminar/materials/colorPaletteCheatsheet.pdf)"
   ]
  },
  {
   "cell_type": "markdown",
   "metadata": {},
   "source": [
    "Read the data from tips text file in \"/dsa/data/all_datasets/tips.txt\" into the dataframe called tips_data."
   ]
  },
  {
   "cell_type": "code",
   "execution_count": null,
   "metadata": {},
   "outputs": [],
   "source": [
    "library(ggplot2)\n",
    "\n",
    "tips_data = read.csv('/dsa/data/all_datasets/tips.txt')\n",
    "head(tips_data)"
   ]
  },
  {
   "cell_type": "markdown",
   "metadata": {},
   "source": [
    "**Activity 1:** Plot a bar chart where the height of the bar shows the **number** of tips per day. By using a count statistics, we simply plot the number of tips, not the amount."
   ]
  },
  {
   "cell_type": "code",
   "execution_count": null,
   "metadata": {},
   "outputs": [],
   "source": [
    "# stat=\"count\" is default, we can omit it. \n",
    "p <- ggplot(tips_data, aes(x=day)) + geom_bar(stat=\"count\")\n",
    "p"
   ]
  },
  {
   "cell_type": "markdown",
   "metadata": {},
   "source": [
    "**Activity 2:** Plot a bar chart where the height of the bar shows the **total amount** of tips per day. "
   ]
  },
  {
   "cell_type": "code",
   "execution_count": null,
   "metadata": {},
   "outputs": [],
   "source": [
    "(p <- ggplot(tips_data, aes(x=day,weight=tip)) + geom_bar())"
   ]
  },
  {
   "cell_type": "markdown",
   "metadata": {},
   "source": [
    "**Activity 3:** Plot a bar chart where the height of the bar shows the **total amount** of tips per day **for each sex.** Here, we change the aesthetics of the bar, color fill visual channel will represent the sex. "
   ]
  },
  {
   "cell_type": "code",
   "execution_count": null,
   "metadata": {},
   "outputs": [],
   "source": [
    "(p <- ggplot(tips_data, aes(x=day,weight=tip)) + geom_bar(aes(fill=sex)))"
   ]
  },
  {
   "cell_type": "markdown",
   "metadata": {},
   "source": [
    "**This was a *stacked bar chart* and it does not provide a good comparison between two categories (sex of the payers)**; we know that aligned bars give better visual comparison. So let's change this:"
   ]
  },
  {
   "cell_type": "code",
   "execution_count": null,
   "metadata": {},
   "outputs": [],
   "source": [
    "(p <- ggplot(tips_data, aes(x=day,weight=tip)) + geom_bar(position=\"dodge\",aes(fill=sex),colour=\"black\"))"
   ]
  },
  {
   "cell_type": "markdown",
   "metadata": {},
   "source": [
    "**This is better. Now we can easily compare sexes and days since length is perceptually very effective for comparison.**\n",
    "\n",
    "**So we can see Fridays are not a good day for waiters according to this data set. Let's change the colors by adding *scales*.** "
   ]
  },
  {
   "cell_type": "code",
   "execution_count": null,
   "metadata": {},
   "outputs": [],
   "source": [
    "(p + scale_fill_manual(values = c(\"red\",\"blue\")))"
   ]
  },
  {
   "cell_type": "code",
   "execution_count": null,
   "metadata": {},
   "outputs": [],
   "source": [
    "#let's use colors that have less visual weight and reorder\n",
    "\n",
    "(p + scale_fill_brewer(palette=\"Accent\") + scale_x_discrete(limits=c(\"Thur\",\"Fri\",\"Sat\",\"Sun\"))) "
   ]
  },
  {
   "cell_type": "markdown",
   "metadata": {},
   "source": [
    "**Activity 4:** Plot a scatter plot of **tip vs. total bill** using **sex and smoker** status as **facets**.\n",
    "\n",
    "So here, positions in the plots represent tip and total bill, different plot locations represent sex (vertical) and smoker(horizontal). **Facets are also called *small multiples*.** "
   ]
  },
  {
   "cell_type": "code",
   "execution_count": null,
   "metadata": {},
   "outputs": [],
   "source": [
    "(p <- ggplot(tips_data, aes(x=total_bill,y=tip)) + geom_point() + facet_grid(sex ~ smoker))"
   ]
  },
  {
   "cell_type": "code",
   "execution_count": null,
   "metadata": {},
   "outputs": [],
   "source": [
    "# We can also add a fitted curve to it as another layer to see the relation between total bill and the tip amount. \n",
    "\n",
    "\n",
    "(p <- ggplot(tips_data, aes(x=total_bill,y=tip)) + geom_point() + facet_grid(sex ~ smoker)) + geom_smooth()"
   ]
  },
  {
   "cell_type": "markdown",
   "metadata": {},
   "source": [
    "**Activity 5:** Draw a scatter plot for variables **total_bill** and **tip** using **sex and smoker** as facets. Map the **day** and **size** attributes to **color** and **shape** visual variables, respectively."
   ]
  },
  {
   "cell_type": "code",
   "execution_count": null,
   "metadata": {},
   "outputs": [],
   "source": [
    "p <- ggplot(tips_data, aes(x=total_bill,y=tip,color=day,shape=factor(size))) + geom_point()\n",
    "p + facet_grid(sex ~ smoker)"
   ]
  },
  {
   "cell_type": "markdown",
   "metadata": {},
   "source": [
    "**The above plot is reimplementation of the plot from the bottom of the page [here](http://pandas.pydata.org/pandas-docs/version/0.18.1/visualization.html), and is a nice example of how to mess up the visual variables.**\n",
    "\n",
    "We know that **size** attribute is **quantitative**; using **shape** visual variable for the size does not make an efficient visualization. We can't compare shapes!\n",
    "\n",
    "Similarly, **day** attribute is **ordinal**; so we need a **sequential** color palette in order to map it to colors that we can preattentively order and compare. \n",
    "\n",
    "**Let's redo this plot the right way!**"
   ]
  },
  {
   "cell_type": "markdown",
   "metadata": {},
   "source": [
    "**YOUR TURN: Activity 6:** Draw a scatter plot for variables **total_bill** and **tip** using **sex** and **smoker** as facets. Map the **day** and **size** attributes to **color** and **size** visual variables, respectively. Use a **sequential** color palette."
   ]
  },
  {
   "cell_type": "code",
   "execution_count": null,
   "metadata": {},
   "outputs": [],
   "source": [
    "# YOUR CODE HERE"
   ]
  },
  {
   "cell_type": "markdown",
   "metadata": {},
   "source": [
    "Of course, the order of the days is wrong because they are ordered with respect to the alphabetical order. We could create another attribute that would take a value according to the day such as Thur=1, Fri=2, etc. and use that to plot our scatterplot, or reorder as the example above. \n",
    "\n",
    "We also see that there are **too many points superposed**. Let's use transparency so that we can distinguish them a little bit more. \n",
    "\n",
    "**YOUR TURN**: add transparency to the points. "
   ]
  },
  {
   "cell_type": "code",
   "execution_count": null,
   "metadata": {},
   "outputs": [],
   "source": [
    "# YOUR CODE HERE"
   ]
  },
  {
   "cell_type": "markdown",
   "metadata": {},
   "source": [
    "Let's use another data set we have seen in the lab. Exercises below use the fishcatch dataset. The dataset is about 159 fish that are caught and measured. They belong to seven different species. "
   ]
  },
  {
   "cell_type": "code",
   "execution_count": null,
   "metadata": {},
   "outputs": [],
   "source": [
    "fishcatch_data=read.csv(\"/dsa/data/all_datasets/fishcatch/fishcatch.csv\")\n",
    "head(fishcatch_data)"
   ]
  },
  {
   "cell_type": "code",
   "execution_count": null,
   "metadata": {},
   "outputs": [],
   "source": [
    "str(fishcatch_data)"
   ]
  },
  {
   "cell_type": "markdown",
   "metadata": {},
   "source": [
    "**Activity 7:** Draw a 2D scatterplot and use **position** visual variable to represent **height** and **weight** attributes of fishcatch_data . **Do the positions of points suggest anything?**"
   ]
  },
  {
   "cell_type": "code",
   "execution_count": null,
   "metadata": {},
   "outputs": [],
   "source": [
    "p3 <- # YOUR CODE HERE\n",
    "p3 + xlab(\"Height (cm)\") + ylab(\"Weight (gr)\")"
   ]
  },
  {
   "cell_type": "markdown",
   "metadata": {},
   "source": [
    "In the above plot, we can immediately see clusters of data points. Each set of points have different weights and heights. There is no way to tell which set of points belong to what species. Let's add that. \n",
    "\n",
    "**YOUR TURN: Let's use the color visual variable to differentiate the points among species.**"
   ]
  },
  {
   "cell_type": "code",
   "execution_count": null,
   "metadata": {},
   "outputs": [],
   "source": [
    "p3 <- # YOUR CODE HERE\n",
    "p3 <- p3 + xlab(\"Height (cm)\") + ylab(\"Weight (gr)\")\n",
    "p3"
   ]
  },
  {
   "cell_type": "markdown",
   "metadata": {},
   "source": [
    "**YOUR TURN: Let's add sex attribute to the plot by assigning it to a *shape* visual variable since it is a nominal type.**"
   ]
  },
  {
   "cell_type": "code",
   "execution_count": null,
   "metadata": {},
   "outputs": [],
   "source": [
    "# YOUR CODE HERE"
   ]
  },
  {
   "cell_type": "markdown",
   "metadata": {},
   "source": [
    "We can see different species cluster nicely except species 3 and 7, and sex does not seem to have much of an effect. \n",
    "\n",
    "**We can do only so much with a scatter plot. Let's try another way of visualizing and exploring this data set.** \n",
    "\n",
    "**Let's do a histogram of weights to see their distribution.** "
   ]
  },
  {
   "cell_type": "code",
   "execution_count": null,
   "metadata": {},
   "outputs": [],
   "source": [
    "\n",
    "\n",
    "(p4 <- ggplot(fishcatch_data, aes(x=weight)) + geom_histogram(binwidth=50))\n"
   ]
  },
  {
   "cell_type": "code",
   "execution_count": null,
   "metadata": {},
   "outputs": [],
   "source": [
    "# we want to see it by species, so we can either do this: \n",
    "p5 <- ggplot(fishcatch_data, aes(x=weight,fill=factor(species))) + geom_histogram(binwidth=100) \n",
    "p5"
   ]
  },
  {
   "cell_type": "code",
   "execution_count": null,
   "metadata": {},
   "outputs": [],
   "source": [
    "# or this:\n",
    "p6 <- ggplot(fishcatch_data, aes(x=weight,fill=factor(species))) + geom_histogram(binwidth=50) + facet_wrap(~species)\n",
    "p6\n"
   ]
  },
  {
   "cell_type": "code",
   "execution_count": null,
   "metadata": {},
   "outputs": [],
   "source": [
    "# We can also add densities to it. \n",
    "# We can use the computed variable ..scaled.. so that density plot does not vanish due to difference in scales. \n",
    "\n",
    "\n",
    "p66 +  geom_density(aes(y=..scaled..), alpha=0.2, fill=\"red\") \n",
    "\n",
    "# or\n",
    "\n",
    "p66 +  geom_density(aes(y=..scaled.., fill=factor(species)), alpha=0.2) \n",
    "\n"
   ]
  },
  {
   "cell_type": "markdown",
   "metadata": {},
   "source": [
    "Now, let's see how we can plot a **box and whiskers plot** to visualize the **summary statistics** of a data set. Let's use the **diamonds data** set for it; and plot color vs. price for each clarity category."
   ]
  },
  {
   "cell_type": "code",
   "execution_count": null,
   "metadata": {},
   "outputs": [],
   "source": [
    "p7 <- ggplot(diamonds, aes(x=color, y=price)) + geom_boxplot() + facet_wrap(~ clarity)\n",
    "p7"
   ]
  },
  {
   "cell_type": "markdown",
   "metadata": {},
   "source": [
    "Thick black line is the median.\n",
    "\n",
    "The edges of the box show the 25th and 75th quantiles.\n",
    "\n",
    "The dots are the outliers. \n",
    "\n",
    "Because there are many outliers with very high values, scaling the y-axis with a *log scale* might be helpful. "
   ]
  },
  {
   "cell_type": "code",
   "execution_count": null,
   "metadata": {},
   "outputs": [],
   "source": [
    "p7 + scale_y_log10()"
   ]
  },
  {
   "cell_type": "markdown",
   "metadata": {},
   "source": [
    "This plot shows the statistics better, but it doesn't show the details of the distribution. **We can use a violin plot to see the density.** "
   ]
  },
  {
   "cell_type": "code",
   "execution_count": null,
   "metadata": {},
   "outputs": [],
   "source": [
    "p7 <- ggplot(diamonds, aes(x=color, y=price)) + geom_violin() + facet_wrap(~ clarity) + scale_y_log10()\n",
    "p7"
   ]
  },
  {
   "cell_type": "markdown",
   "metadata": {},
   "source": [
    "Now we can see the distribution as the width at each point in this plot represents the frequency of the corresponding price."
   ]
  },
  {
   "cell_type": "code",
   "execution_count": null,
   "metadata": {},
   "outputs": [],
   "source": [
    "(p7 <- ggplot(diamonds, aes(x=color, y=price)) + geom_violin(aes(fill=color)) + facet_wrap(~ clarity) + scale_y_log10())"
   ]
  },
  {
   "cell_type": "markdown",
   "metadata": {},
   "source": [
    "**Try to come up with a similar violin plot for fishcatch data. Which variables would be useful to summarize?**\n",
    "\n"
   ]
  },
  {
   "cell_type": "code",
   "execution_count": null,
   "metadata": {},
   "outputs": [],
   "source": []
  }
 ],
 "metadata": {
  "anaconda-cloud": {},
  "kernelspec": {
   "display_name": "R",
   "language": "R",
   "name": "ir"
  },
  "language_info": {
   "codemirror_mode": "r",
   "file_extension": ".r",
   "mimetype": "text/x-r-source",
   "name": "R",
   "pygments_lexer": "r",
   "version": "3.5.1"
  }
 },
 "nbformat": 4,
 "nbformat_minor": 1
}
