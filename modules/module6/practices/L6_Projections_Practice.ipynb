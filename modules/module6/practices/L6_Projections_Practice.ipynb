{
 "cells": [
  {
   "cell_type": "markdown",
   "metadata": {},
   "source": [
    "## Module 6 Practice - Projections and Vector Maps\n",
    "\n",
    "\n",
    "In this notebook, we will see how to **draw vector maps from different sources.** "
   ]
  },
  {
   "cell_type": "code",
   "execution_count": null,
   "metadata": {},
   "outputs": [],
   "source": [
    "# Useful libraries to visualize maps \n",
    "library(ggplot2)\n",
    "library(sp)\n",
    "library(maps)\n",
    "library(maptools)\n",
    "library(mapproj)\n",
    "library(mapdata)"
   ]
  },
  {
   "cell_type": "markdown",
   "metadata": {},
   "source": [
    "**Let's start with plain R to draw flights in between cities.** \n",
    "\n",
    "Plain R can be sometimes shorter to code. In this example, our data set has **two files**; \n",
    " - flight information for airlines between airports, \n",
    " - geo coordinates of the airports. \n",
    " \n",
    " First, we will go through the flight data and **find out the coordinates of the originating and destination airports and visualize the number of flights**. "
   ]
  },
  {
   "cell_type": "code",
   "execution_count": null,
   "metadata": {},
   "outputs": [],
   "source": [
    "# airport codes and coordinates \n",
    "airports <- read.csv(\"/dsa/data/all_datasets/spatial/airports.csv\", as.is=TRUE, header=TRUE)\n",
    "# flight destinations and counts \n",
    "flights <- read.csv(\"/dsa/data/all_datasets/spatial/flights.csv\", as.is=TRUE, header=TRUE)\n",
    "\n",
    "airports$lat <- as.numeric(airports$lat)\n",
    "airports$long <- as.numeric(airports$long)\n",
    "\n",
    "# Look at the data frames \n",
    "head(airports)\n",
    "head(flights)"
   ]
  },
  {
   "cell_type": "code",
   "execution_count": null,
   "metadata": {},
   "outputs": [],
   "source": [
    "# Draw world map in plain R \n",
    "map(\"world\", col=\"#f2f2f2\", fill=TRUE, bg=\"white\", lwd=0.05, xlim=c(-172, -57), ylim=c(12, 72))\n",
    "\n",
    "# This is needed to compute the great circle between two locations on earth \n",
    "library(geosphere)\n",
    "\n",
    "# Display only American Airlines \n",
    "fsub <- flights[flights$airline == \"AA\",]\n",
    "\n",
    "# go through EACH flight and FIND the coordinates of originating and destination airport \n",
    "for (j in 1:length(fsub$airline)) {\n",
    "    air1 <- airports[airports$iata == fsub[j,]$airport1,]\n",
    "    air2 <- airports[airports$iata == fsub[j,]$airport2,]\n",
    "\n",
    "    # compute the great circle and create a path of 100 points between endpoints \n",
    "    inter <- data.frame(gcIntermediate(c(air1[1,]$long, air1[1,]$lat), c(air2[1,]$long, air2[1,]$lat), n=100, addStartEnd=TRUE))\n",
    "    \n",
    "    # draw the arc for this flight; line thickness encodes number of flights \n",
    "    lines(inter, col=\"black\", lwd=2*fsub[j,]$cnt/max(fsub$cnt))\n",
    "}"
   ]
  },
  {
   "cell_type": "markdown",
   "metadata": {},
   "source": [
    "**We can also read the vector map data from a shapefile**. A shapefile contains geospatial vector data that define geometric shapes of a map and the related attributes. \n",
    "\n",
    "\n",
    "Shapefiles can be obtained from online resources such as [US Census Bureau](https://www.census.gov/programs-surveys/geography/geographies/mapping-files.html). \n",
    "\n",
    "\n",
    "We can **read the shapefiles and convert them to data frames** that **ggplot** can display. But they can be very large and take some time to process."
   ]
  },
  {
   "cell_type": "code",
   "execution_count": null,
   "metadata": {},
   "outputs": [],
   "source": [
    "# load the shapefile and convert to a data frame\n",
    "us_shp <- readShapePoly(\"/dsa/data/all_datasets/spatial/cb_2015_us_state_500k.shp\")\n",
    "us_map <- fortify(us_shp)\n",
    "head(us_map)"
   ]
  },
  {
   "cell_type": "code",
   "execution_count": null,
   "metadata": {},
   "outputs": [],
   "source": [
    "# draw the map \n",
    "ggplot(us_map, aes(x = long, y = lat, group=group)) + \n",
    "geom_path() + \n",
    "coord_map(\"mercator\") + \n",
    "xlim(c(-172, -57)) + ylim(c(12, 72)) "
   ]
  },
  {
   "cell_type": "code",
   "execution_count": null,
   "metadata": {},
   "outputs": [],
   "source": [
    "ggplot(us_map, aes(x = long, y = lat, group=group)) + \n",
    "geom_path() + \n",
    "coord_map(\"polyconic\") + \n",
    "xlim(c(-172, -57)) + ylim(c(12, 72)) "
   ]
  },
  {
   "cell_type": "markdown",
   "metadata": {},
   "source": [
    "**Let's see how to get the vector data using map_data() function of `maps` library; it will be faster and we will use this method to get vector map data.** "
   ]
  },
  {
   "cell_type": "code",
   "execution_count": null,
   "metadata": {},
   "outputs": [],
   "source": [
    "world <- map_data(\"world\")\n",
    "w <- ggplot()\n",
    "w <- w + geom_map(data=world, map=world, aes(long, lat, map_id=region), color=\"black\", fill=\"#d6bf86\", size=0.1)\n",
    "w <- w + coord_equal() \n",
    "w <- w + theme_void()\n",
    "w"
   ]
  },
  {
   "cell_type": "code",
   "execution_count": null,
   "metadata": {},
   "outputs": [],
   "source": [
    "# We can similarly get the US state data \n",
    "us <- map_data(\"state\")\n",
    "\n",
    "gg <- ggplot() + geom_map(data=us, map=us, aes(long, lat, map_id=region), color=\"#222222\", fill=NA, size=0.15)\n",
    "# this is a good projection for US\n",
    "gg <- gg + coord_map(\"polyconic\")\n",
    "gg <- gg + theme_void() \n",
    "gg "
   ]
  },
  {
   "cell_type": "code",
   "execution_count": null,
   "metadata": {},
   "outputs": [],
   "source": [
    "# add colors, change projection\n",
    "gg <- ggplot() + geom_map(data=us, map=us, aes(long, lat, map_id=region), color=\"white\", fill=\"lightblue\", size=0.15)\n",
    "#This is better projection\n",
    "gg <- gg + coord_map(\"albers\", lat0=30, lat1=40)\n",
    "gg <- gg + theme_void()\n",
    "gg"
   ]
  },
  {
   "cell_type": "code",
   "execution_count": null,
   "metadata": {},
   "outputs": [],
   "source": [
    "# This is how we can get data for different LEVELS of detail and use different LAYERS to overlay them. \n",
    "\n",
    "state <- map_data(\"state\")\n",
    "county <- map_data(\"county\")\n",
    "usa <- map_data(\"usa\")\n",
    "\n",
    "gg <- ggplot()\n",
    "gg <- gg + geom_map(data=county, map=county,\n",
    "                    aes(long, lat, map_id=region),\n",
    "                    color=\"grey\", fill=NA, size=0.1)\n",
    "gg <- gg + geom_map(data=state, map=state,\n",
    "                    aes(long, lat, map_id=region),\n",
    "                    color=\"red\", fill=NA, size=0.3)\n",
    "gg <- gg + geom_map(data=usa, map=usa,\n",
    "                    aes(long, lat, map_id=region),\n",
    "                    color=\"blue\", fill=NA, size=0.6)\n",
    "gg <- gg + coord_map(\"albers\", lat0=30, lat1=40)\n",
    "gg <- gg + theme_void()\n",
    "gg"
   ]
  },
  {
   "cell_type": "code",
   "execution_count": null,
   "metadata": {},
   "outputs": [],
   "source": [
    "head(county)"
   ]
  },
  {
   "cell_type": "code",
   "execution_count": null,
   "metadata": {},
   "outputs": [],
   "source": [
    "#Let's pick Missouri\n",
    "mo <- county[which(county$region==\"missouri\"),]\n",
    "\n",
    "# same thing can be done like this:\n",
    "mo2 <- map_data(\"county\", \"missouri\")\n",
    "\n",
    "# Let's select the Boone county from MO;  there are Boone counties in other states, too. \n",
    "boone <- county[which(county$subregion==\"boone\" & county$region==\"missouri\"),]\n"
   ]
  },
  {
   "cell_type": "code",
   "execution_count": null,
   "metadata": {},
   "outputs": [],
   "source": [
    "gg <- ggplot()\n",
    "gg <- gg + geom_map(data=mo, map=mo,\n",
    "                    aes(x=long, y=lat, map_id=region),\n",
    "                    color=\"black\", fill=NA, size=0.1)\n",
    "gg <- gg + geom_map(data=boone, map=boone,\n",
    "                    aes(x=long, y=lat, map_id=region),\n",
    "                    color=\"red\", fill=NA, size=0.4)\n",
    "gg <- gg + coord_map(\"polyconic\")\n",
    "\n",
    "gg <- gg + theme_void()\n",
    "gg\n",
    "head(mo)"
   ]
  },
  {
   "cell_type": "markdown",
   "metadata": {},
   "source": [
    "### YOUR TURN:\n",
    "\n",
    "**Plot the same map as above with neighbor counties of Boone county colored blue**. (Neighbors are Audrain, Callaway, Cole, Cooper, Howard, Moniteau, Randolph counties)."
   ]
  },
  {
   "cell_type": "code",
   "execution_count": null,
   "metadata": {},
   "outputs": [],
   "source": [
    "< YOUR CODE HERE >"
   ]
  },
  {
   "cell_type": "markdown",
   "metadata": {},
   "source": [
    "**Let's get coordinates of some of the cities in MO and display them.** \n"
   ]
  },
  {
   "cell_type": "code",
   "execution_count": null,
   "metadata": {},
   "outputs": [],
   "source": [
    "head(us.cities)\n",
    "mo_cities <- us.cities[which(us.cities$country.etc==\"MO\"),]\n",
    "mo_cities"
   ]
  },
  {
   "cell_type": "code",
   "execution_count": null,
   "metadata": {},
   "outputs": [],
   "source": [
    "# This is a bubble map \n",
    "gg + geom_point(data=mo_cities, aes(x=long, y=lat, size=pop, color=factor(capital))) +\n",
    "scale_color_manual(values=c(\"blue\",\"red\"))"
   ]
  },
  {
   "cell_type": "markdown",
   "metadata": {},
   "source": [
    "**Now, let's finish with a similar plot like in the beginning, but this time using `ggplot` and `dplyr` for smarter data manipulation. Study the following code cells to understand how the map is constructed.**"
   ]
  },
  {
   "cell_type": "code",
   "execution_count": null,
   "metadata": {},
   "outputs": [],
   "source": [
    "# pick only busy routes \n",
    "flights <- flights[which(flights$cnt> 300),]\n",
    "\n",
    "# get airport locations\n",
    "airport_locs <- airports[, c(\"iata\",\"long\", \"lat\")]"
   ]
  },
  {
   "cell_type": "code",
   "execution_count": null,
   "metadata": {},
   "outputs": [],
   "source": [
    "library(dplyr)\n",
    "# Link airport lat long to origin and destination\n",
    "OD <- left_join(flights, airport_locs, by=c(\"airport1\"=\"iata\"))\n",
    "OD <- left_join(OD, airport_locs, by=c(\"airport2\"=\"iata\"))\n",
    "head(OD)"
   ]
  },
  {
   "cell_type": "code",
   "execution_count": null,
   "metadata": {},
   "outputs": [],
   "source": [
    "# Now, create curves on the map with a fixed curvature - no great circle computation \n",
    "ggplot() + \n",
    "\n",
    "#geom_polygon(data=world, aes(long, lat, group=group), fill=\"#e6ef86\", color=\"black\", size=0.1) +\n",
    "\n",
    "geom_map(data=world,map=world, aes(long, lat, map_id=region), fill=\"#e6ef86\", color=\"black\", size=0.1) +\n",
    "\n",
    "geom_curve(data=OD, aes(x=long.x, y=lat.x, xend=long.y, yend=lat.y, color=cnt), size=0.1,\n",
    "                 curvature=-0.2, arrow=arrow(length=unit(0.01, \"npc\"))) +\n",
    "    \n",
    "scale_colour_distiller(palette=\"Blues\", guide=\"none\") +\n",
    "\n",
    "coord_equal() +\n",
    "\n",
    "xlim(c(-172,-57)) + ylim(c(12,72)) + \n",
    "\n",
    "theme_void()"
   ]
  },
  {
   "cell_type": "code",
   "execution_count": null,
   "metadata": {},
   "outputs": [],
   "source": []
  }
 ],
 "metadata": {
  "kernelspec": {
   "display_name": "R",
   "language": "R",
   "name": "ir"
  },
  "language_info": {
   "codemirror_mode": "r",
   "file_extension": ".r",
   "mimetype": "text/x-r-source",
   "name": "R",
   "pygments_lexer": "r",
   "version": "3.5.1"
  }
 },
 "nbformat": 4,
 "nbformat_minor": 2
}
